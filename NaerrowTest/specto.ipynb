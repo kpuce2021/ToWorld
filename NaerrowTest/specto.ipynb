{
 "cells": [
  {
   "cell_type": "code",
   "execution_count": 1,
   "id": "8ba7fd34",
   "metadata": {},
   "outputs": [
    {
     "name": "stderr",
     "output_type": "stream",
     "text": [
      "C:\\Users\\jaehee\\anaconda3\\lib\\site-packages\\pydub\\utils.py:170: RuntimeWarning: Couldn't find ffmpeg or avconv - defaulting to ffmpeg, but may not work\n",
      "  warn(\"Couldn't find ffmpeg or avconv - defaulting to ffmpeg, but may not work\", RuntimeWarning)\n"
     ]
    }
   ],
   "source": [
    "import os\n",
    "import traceback\n",
    "import numpy\n",
    "from pydub import AudioSegment\n",
    "from matplotlib import pyplot as plt\n",
    "import librosa.display\n",
    "import librosa\n",
    "import cv2\n",
    "from skimage.color import rgb2gray\n",
    "formats_to_convert = ['.m4a']\n",
    "FIG_SIZE = (2.56, 1.40)"
   ]
  },
  {
   "cell_type": "code",
   "execution_count": 51,
   "id": "5088acd1",
   "metadata": {},
   "outputs": [],
   "source": [
    "def wav2sepc():\n",
    "    for i in range(1,6):\n",
    "        plt.figure(figsize=FIG_SIZE)\n",
    "        audio, sampling_rate = librosa.load(\"C:/Users/jaehee/.keras/datasets/new_wav_data/living_room/living_room\"+ str(i) +\".wav\")\n",
    "        mel_spectrogram = librosa.feature.melspectrogram(y=audio, sr=sampling_rate, n_mels=256, hop_length=128, fmax=8000)\n",
    "        mel_spectrogram = librosa.power_to_db(mel_spectrogram, ref=numpy.max)\n",
    "        plt.gca().set_axis_off()\n",
    "        plt.subplots_adjust(top=1, bottom=0, right=1, left=0, hspace=0, wspace=0)\n",
    "        plt.gca().xaxis.set_major_locator(plt.NullLocator())\n",
    "        plt.gca().yaxis.set_major_locator(plt.NullLocator())\n",
    "        plt.imshow(mel_spectrogram)\n",
    "        plt.savefig('C:/Users/jaehee/.keras/datasets/new_spec_data/living_room/living_room'+str(i)+'.png', bbox_inches='tight',pad_inches=0)"
   ]
  },
  {
   "cell_type": "code",
   "execution_count": 52,
   "id": "de2c9bd9",
   "metadata": {},
   "outputs": [],
   "source": [
    "def wav2sepc2():\n",
    "    for i in range(1,9):\n",
    "        plt.figure(figsize=FIG_SIZE)\n",
    "        audio, sampling_rate = librosa.load(\"C:/Users/jaehee/.keras/datasets/new_wav_data/tv_on/tv\"+ str(i) +\".wav\")\n",
    "        mel_spectrogram = librosa.feature.melspectrogram(y=audio, sr=sampling_rate, n_mels=256, hop_length=128, fmax=8000)\n",
    "        mel_spectrogram = librosa.power_to_db(mel_spectrogram, ref=numpy.max)\n",
    "        plt.gca().set_axis_off()\n",
    "        plt.subplots_adjust(top=1, bottom=0, right=1, left=0, hspace=0, wspace=0)\n",
    "        plt.gca().xaxis.set_major_locator(plt.NullLocator())\n",
    "        plt.gca().yaxis.set_major_locator(plt.NullLocator())\n",
    "        plt.imshow(mel_spectrogram)\n",
    "        plt.savefig('C:/Users/jaehee/.keras/datasets/new_spec_data/tv_on/tv'+str(i)+'.png', bbox_inches='tight',pad_inches=0)"
   ]
  },
  {
   "cell_type": "code",
   "execution_count": 53,
   "id": "8d3aa140",
   "metadata": {},
   "outputs": [],
   "source": [
    "def wav2sepc3():\n",
    "    for i in range(1,7):\n",
    "        plt.figure(figsize=FIG_SIZE)\n",
    "        audio, sampling_rate = librosa.load(\"C:/Users/jaehee/.keras/datasets/new_wav_data/weather/weather\"+ str(i) +\".wav\")\n",
    "        mel_spectrogram = librosa.feature.melspectrogram(y=audio, sr=sampling_rate, n_mels=256, hop_length=128, fmax=8000)\n",
    "        mel_spectrogram = librosa.power_to_db(mel_spectrogram, ref=numpy.max)\n",
    "        plt.gca().set_axis_off()\n",
    "        plt.subplots_adjust(top=1, bottom=0, right=1, left=0, hspace=0, wspace=0)\n",
    "        plt.gca().xaxis.set_major_locator(plt.NullLocator())\n",
    "        plt.gca().yaxis.set_major_locator(plt.NullLocator())\n",
    "        plt.imshow(mel_spectrogram)\n",
    "        plt.savefig('C:/Users/jaehee/.keras/datasets/new_spec_data/weather/weather'+str(i)+'.png', bbox_inches='tight',pad_inches=0)"
   ]
  },
  {
   "cell_type": "code",
   "execution_count": 5,
   "id": "bc70ee2c",
   "metadata": {},
   "outputs": [],
   "source": [
    "def pre_denoise(file_name):\n",
    "    for i in range(1,501):\n",
    "        plt.figure(figsize=FIG_SIZE)\n",
    "        img = cv2.imread('C:/Users/jaehee/.keras/datasets/final_gray_log_mel_spec_data/'+file_name+'/'+file_name+'('+str(i)+').png')\n",
    "        dst = cv2.fastNlMeansDenoisingColored(img, None, 10, 10, 7, 21)\n",
    "        gray = rgb2gray(dst)\n",
    "        plt.subplots_adjust(top=1, bottom=0, right=1, left=0, hspace=0, wspace=0)\n",
    "        plt.margins(0, 0)\n",
    "        plt.gca().xaxis.set_major_locator(plt.NullLocator())\n",
    "        plt.gca().yaxis.set_major_locator(plt.NullLocator())\n",
    "        plt.imshow(gray, cmap=plt.get_cmap('gray'), vmin=0, vmax=1)\n",
    "        plt.savefig('C:/Users/jaehee/.keras/datasets/final_gray_log_mel_spec_data/'+file_name+'/'+file_name+'('+str(i)+').png', )"
   ]
  },
  {
   "cell_type": "code",
   "execution_count": 6,
   "id": "fcf61056",
   "metadata": {},
   "outputs": [
    {
     "ename": "error",
     "evalue": "OpenCV(4.5.2) C:\\Users\\runneradmin\\AppData\\Local\\Temp\\pip-req-build-vi271kac\\opencv\\modules\\photo\\src\\denoising.cpp:178: error: (-5:Bad argument) Type of input image should be CV_8UC3 or CV_8UC4! in function 'cv::fastNlMeansDenoisingColored'\n",
     "output_type": "error",
     "traceback": [
      "\u001b[1;31m---------------------------------------------------------------------------\u001b[0m",
      "\u001b[1;31merror\u001b[0m                                     Traceback (most recent call last)",
      "\u001b[1;32m<ipython-input-6-36a3b1fe00b9>\u001b[0m in \u001b[0;36m<module>\u001b[1;34m\u001b[0m\n\u001b[1;32m----> 1\u001b[1;33m \u001b[0mpre_denoise\u001b[0m\u001b[1;33m(\u001b[0m\u001b[1;34m'morning'\u001b[0m\u001b[1;33m)\u001b[0m\u001b[1;33m\u001b[0m\u001b[1;33m\u001b[0m\u001b[0m\n\u001b[0m",
      "\u001b[1;32m<ipython-input-5-f33b2775fd9b>\u001b[0m in \u001b[0;36mpre_denoise\u001b[1;34m(file_name)\u001b[0m\n\u001b[0;32m      3\u001b[0m         \u001b[0mplt\u001b[0m\u001b[1;33m.\u001b[0m\u001b[0mfigure\u001b[0m\u001b[1;33m(\u001b[0m\u001b[0mfigsize\u001b[0m\u001b[1;33m=\u001b[0m\u001b[0mFIG_SIZE\u001b[0m\u001b[1;33m)\u001b[0m\u001b[1;33m\u001b[0m\u001b[1;33m\u001b[0m\u001b[0m\n\u001b[0;32m      4\u001b[0m         \u001b[0mimg\u001b[0m \u001b[1;33m=\u001b[0m \u001b[0mcv2\u001b[0m\u001b[1;33m.\u001b[0m\u001b[0mimread\u001b[0m\u001b[1;33m(\u001b[0m\u001b[1;34m'C:/Users/jaehee/.keras/datasets/final_gray_log_mel_spec_data/'\u001b[0m\u001b[1;33m+\u001b[0m\u001b[0mfile_name\u001b[0m\u001b[1;33m+\u001b[0m\u001b[1;34m'/'\u001b[0m\u001b[1;33m+\u001b[0m\u001b[0mfile_name\u001b[0m\u001b[1;33m+\u001b[0m\u001b[1;34m'('\u001b[0m\u001b[1;33m+\u001b[0m\u001b[0mstr\u001b[0m\u001b[1;33m(\u001b[0m\u001b[0mi\u001b[0m\u001b[1;33m)\u001b[0m\u001b[1;33m+\u001b[0m\u001b[1;34m').png'\u001b[0m\u001b[1;33m)\u001b[0m\u001b[1;33m\u001b[0m\u001b[1;33m\u001b[0m\u001b[0m\n\u001b[1;32m----> 5\u001b[1;33m         \u001b[0mdst\u001b[0m \u001b[1;33m=\u001b[0m \u001b[0mcv2\u001b[0m\u001b[1;33m.\u001b[0m\u001b[0mfastNlMeansDenoisingColored\u001b[0m\u001b[1;33m(\u001b[0m\u001b[0mimg\u001b[0m\u001b[1;33m,\u001b[0m \u001b[1;32mNone\u001b[0m\u001b[1;33m,\u001b[0m \u001b[1;36m10\u001b[0m\u001b[1;33m,\u001b[0m \u001b[1;36m10\u001b[0m\u001b[1;33m,\u001b[0m \u001b[1;36m7\u001b[0m\u001b[1;33m,\u001b[0m \u001b[1;36m21\u001b[0m\u001b[1;33m)\u001b[0m\u001b[1;33m\u001b[0m\u001b[1;33m\u001b[0m\u001b[0m\n\u001b[0m\u001b[0;32m      6\u001b[0m         \u001b[0mgray\u001b[0m \u001b[1;33m=\u001b[0m \u001b[0mrgb2gray\u001b[0m\u001b[1;33m(\u001b[0m\u001b[0mdst\u001b[0m\u001b[1;33m)\u001b[0m\u001b[1;33m\u001b[0m\u001b[1;33m\u001b[0m\u001b[0m\n\u001b[0;32m      7\u001b[0m         \u001b[0mplt\u001b[0m\u001b[1;33m.\u001b[0m\u001b[0msubplots_adjust\u001b[0m\u001b[1;33m(\u001b[0m\u001b[0mtop\u001b[0m\u001b[1;33m=\u001b[0m\u001b[1;36m1\u001b[0m\u001b[1;33m,\u001b[0m \u001b[0mbottom\u001b[0m\u001b[1;33m=\u001b[0m\u001b[1;36m0\u001b[0m\u001b[1;33m,\u001b[0m \u001b[0mright\u001b[0m\u001b[1;33m=\u001b[0m\u001b[1;36m1\u001b[0m\u001b[1;33m,\u001b[0m \u001b[0mleft\u001b[0m\u001b[1;33m=\u001b[0m\u001b[1;36m0\u001b[0m\u001b[1;33m,\u001b[0m \u001b[0mhspace\u001b[0m\u001b[1;33m=\u001b[0m\u001b[1;36m0\u001b[0m\u001b[1;33m,\u001b[0m \u001b[0mwspace\u001b[0m\u001b[1;33m=\u001b[0m\u001b[1;36m0\u001b[0m\u001b[1;33m)\u001b[0m\u001b[1;33m\u001b[0m\u001b[1;33m\u001b[0m\u001b[0m\n",
      "\u001b[1;31merror\u001b[0m: OpenCV(4.5.2) C:\\Users\\runneradmin\\AppData\\Local\\Temp\\pip-req-build-vi271kac\\opencv\\modules\\photo\\src\\denoising.cpp:178: error: (-5:Bad argument) Type of input image should be CV_8UC3 or CV_8UC4! in function 'cv::fastNlMeansDenoisingColored'\n"
     ]
    },
    {
     "data": {
      "text/plain": [
       "<Figure size 184.32x100.8 with 0 Axes>"
      ]
     },
     "metadata": {},
     "output_type": "display_data"
    }
   ],
   "source": [
    "pre_denoise('morning')"
   ]
  },
  {
   "cell_type": "code",
   "execution_count": 4,
   "id": "40005390",
   "metadata": {},
   "outputs": [],
   "source": [
    "import librosa\n",
    "import librosa.display\n",
    "import numpy as np\n",
    "import matplotlib.pyplot as plt\n",
    "import os"
   ]
  },
  {
   "cell_type": "code",
   "execution_count": 8,
   "id": "b679fbbc",
   "metadata": {},
   "outputs": [
    {
     "data": {
      "image/png": "[encoded data removed]",
      "text/plain": [
       "<Figure size 432x288 with 1 Axes>"
      ]
     },
     "metadata": {},
     "output_type": "display_data"
    }
   ],
   "source": [
    "def specAug_run(dir_path):\n",
    "    for root, subdirs, files in os.walk('C:/Users/jaehee/.keras/datasets/final_wav_data/'+ dir_path):\n",
    "        for fname in files:\n",
    "            full_fname = os.path.join(root, fname)\n",
    "            audio, sampling_rate = librosa.load(full_fname)\n",
    "\n",
    "            mel_spectrogram = librosa.feature.melspectrogram(y=audio, sr=sampling_rate,n_mels=256, hop_length=128,fmax=8000)\n",
    "            #mel_spectrogram = librosa.power_to_db(mel_spectrogram, ref=np.max)\n",
    "            plt.subplots_adjust(top=1, bottom=0, right=1, left=0, hspace=0, wspace=0)\n",
    "            plt.margins(0, 0) \n",
    "            plt.gca().set_axis_off(\n",
    "            )\n",
    "            plt.gca().xaxis.set_major_locator(plt.NullLocator())\n",
    "            plt.gca().yaxis.set_major_locator(plt.NullLocator())\n",
    "            plt.imshow(mel_spectrogram)\n",
    "            plt.savefig('C:/Users/jaehee/.keras/datasets/final_mel_spec_data/'+ dir_path+'/'+ fname + '_vs2.png', bbox_inches='tight', pad_inches=0)\n",
    "specAug_run('weather')"
   ]
  },
  {
   "cell_type": "code",
   "execution_count": null,
   "id": "3b433efe",
   "metadata": {},
   "outputs": [],
   "source": [
    "import os\n",
    "import numpy as np\n",
    "import librosa\n",
    "import librosa.display\n",
    "import matplotlib.pyplot as plt \n",
    "\n",
    "min_level_db= -100\n",
    "def normalize_mel(S):\n",
    "    return np.clip((S-min_level_db)/-min_level_db,0,1)\n",
    "\n",
    "\n",
    "def feature_extraction(path):\n",
    "    y = librosa.load(path,16000)[0]\n",
    "    S =  librosa.feature.melspectrogram(y=y, n_mels=80, n_fft=512, win_length=400, hop_length=160) # 320/80\n",
    "    norm_log_S = normalize_mel(librosa.power_to_db(S, ref=np.max))\n",
    "    return norm_log_S\n",
    "                        \n",
    "\n",
    "a = feature_extraction('weather_vs2.png.wav')\n",
    "librosa.display.specshow(a, y_axis='mel', x_axis='time')\n",
    "\n",
    "plt.colorbar(format='%+2.0f dB')\n",
    "plt.title('Mel-Spectrogram')\n",
    "plt.tight_layout()\n",
    "plt.savefig('Mel-Spectrogram example.png')\n",
    "plt.show()"
   ]
  }
 ],
 "metadata": {
  "kernelspec": {
   "display_name": "Python 3",
   "language": "python",
   "name": "python3"
  },
  "language_info": {
   "codemirror_mode": {
    "name": "ipython",
    "version": 3
   },
   "file_extension": ".py",
   "mimetype": "text/x-python",
   "name": "python",
   "nbconvert_exporter": "python",
   "pygments_lexer": "ipython3",
   "version": "3.7.10"
  }
 },
 "nbformat": 4,
 "nbformat_minor": 5
}
