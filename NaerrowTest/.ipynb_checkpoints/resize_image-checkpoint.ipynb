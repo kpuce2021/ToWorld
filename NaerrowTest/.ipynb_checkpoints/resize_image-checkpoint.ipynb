{
 "cells": [
  {
   "cell_type": "code",
   "execution_count": 11,
   "id": "f73c5448",
   "metadata": {},
   "outputs": [],
   "source": [
    "import os,sys\n",
    "from PIL import Image\n",
    "\n",
    "\n",
    "size =  256,128 #바꾸고 싶은 사이즈\n",
    "path = \"C:/Users/jaehee/.keras/datasets/test_image(before)/weather/\" #이미지 경로\n",
    "modified_path = \"C:/Users/jaehee/.keras/datasets/test_image(after)/weather/\" #resize된 이미지가 저장될 경로\n",
    "os.chdir(path)\n",
    "\n",
    "def resize_and_crop(img_path, modified_path, size, crop_type='middle'):\n",
    "    \n",
    "    files = os.listdir(img_path)\n",
    "    \n",
    "    for file in files: \n",
    "        \n",
    "        name = str(file)\n",
    "        os.chdir(img_path)\n",
    "        img = Image.open(file)\n",
    "        img_ratio = img.size[0] / float(img.size[1])\n",
    "        ratio = size[0] / float(size[1])\n",
    "        \n",
    "        if ratio > img_ratio:\n",
    "            img = img.resize((size[0], int(round(size[0] * img.size[1] / img.size[0]))),\n",
    "                Image.ANTIALIAS)     \n",
    "            if crop_type == 'top':\n",
    "                box = (0, 0, img.size[0], size[1])\n",
    "            elif crop_type == 'middle':\n",
    "                box = (0, int(round((img.size[1] - size[1]) / 2)), img.size[0],\n",
    "                    int(round((img.size[1] + size[1]) / 2)))\n",
    "            elif crop_type == 'bottom':\n",
    "                box = (0, img.size[1] - size[1], img.size[0], img.size[1])\n",
    "            else :\n",
    "                raise ValueError('ERROR: invalid value for crop_type')\n",
    "            img = img.crop(box)\n",
    "            \n",
    "        elif ratio < img_ratio:\n",
    "            img = img.resize((int(round(size[1] * img.size[0] / img.size[1])), size[1]),\n",
    "                Image.ANTIALIAS)\n",
    "            if crop_type == 'top':\n",
    "                box = (0, 0, size[0], img.size[1])\n",
    "            elif crop_type == 'middle':\n",
    "                box = (int(round((img.size[0] - size[0]) / 2)), 0,\n",
    "                    int(round((img.size[0] + size[0]) / 2)), img.size[1])\n",
    "            elif crop_type == 'bottom':\n",
    "                box = (img.size[0] - size[0], 0, img.size[0], img.size[1])\n",
    "            else :\n",
    "                raise ValueError('ERROR: invalid value for crop_type')\n",
    "            img = img.crop(box)\n",
    "            \n",
    "        else :\n",
    "            img = img.resize((size[0], size[1]), Image.ANTIALIAS)\n",
    "            \n",
    "        os.chdir(modified_path)\n",
    "        img.save(name, \"PNG\")\n",
    "\n",
    "\n",
    "resize_and_crop(path, modified_path, size)"
   ]
  },
  {
   "cell_type": "code",
   "execution_count": null,
   "id": "0c7c4233",
   "metadata": {},
   "outputs": [],
   "source": []
  }
 ],
 "metadata": {
  "kernelspec": {
   "display_name": "naerrow",
   "language": "python",
   "name": "naerrow"
  },
  "language_info": {
   "codemirror_mode": {
    "name": "ipython",
    "version": 3
   },
   "file_extension": ".py",
   "mimetype": "text/x-python",
   "name": "python",
   "nbconvert_exporter": "python",
   "pygments_lexer": "ipython3",
   "version": "3.7.10"
  }
 },
 "nbformat": 4,
 "nbformat_minor": 5
}
