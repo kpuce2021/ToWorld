{
 "cells": [
  {
   "cell_type": "code",
   "execution_count": 12,
   "id": "b2226a0e",
   "metadata": {},
   "outputs": [
    {
     "name": "stdout",
     "output_type": "stream",
     "text": [
      "(1, 288, 432, 3)\n",
      "WARNING:tensorflow:11 out of the last 11 calls to <function Model.make_predict_function.<locals>.predict_function at 0x0000025BC86473A8> triggered tf.function retracing. Tracing is expensive and the excessive number of tracings could be due to (1) creating @tf.function repeatedly in a loop, (2) passing tensors with different shapes, (3) passing Python objects instead of tensors. For (1), please define your @tf.function outside of the loop. For (2), @tf.function has experimental_relax_shapes=True option that relaxes argument shapes that can avoid unnecessary retracing. For (3), please refer to https://www.tensorflow.org/tutorials/customization/performance#python_or_tensor_args and https://www.tensorflow.org/api_docs/python/tf/function for  more details.\n",
      "tf.Tensor([0.21194156 0.21194156 0.57611686], shape=(3,), dtype=float32)\n",
      "[2]\n"
     ]
    }
   ],
   "source": [
    "import cv2\n",
    "import tensorflow as tf\n",
    "import numpy as np\n",
    "from keras.preprocessing import image\n",
    "from tensorflow import keras\n",
    "from tensorflow.python.keras.models import load_model\n",
    "\n",
    "# config = tf.compat.v1.ConfigProto ()\n",
    "# config.gpu_options.per_process_gpu_memory_fraction = 0.4\n",
    "# session = tf.compat.v1 .Session (config = config)\n",
    "# samples_to_predict = []\n",
    "img_width = 432\n",
    "img_height = 288\n",
    "\n",
    "morning = 'C:/Users/jaehee/.keras/datasets/prediction_data/prediction/ingb_prediction (2)/rm_spec/morning/unnoisedg3.png'\n",
    "traffic = 'C:/Users/jaehee/.keras/datasets/prediction_data/prediction/ingb_prediction (2)/rm_spec/traffic/unnoisedc3.png'\n",
    "weather = 'C:/Users/jaehee/.keras/datasets/prediction_data/prediction/ingb_prediction (2)/rm_spec/weather/unnoisedn3.png'\n",
    "\n",
    "\n",
    "#image_path = traffic\n",
    "#img = image.load_img(image_path, target_size=(img_height, img_width))\n",
    "class_names = ['morning','traffic','weather']\n",
    "img = cv2.imread(weather)\n",
    "#np.array(img, dtype='uint8')\n",
    "#print(img)\n",
    "b, g, r = cv2.split(img)\n",
    "img2 = cv2.merge([r, g, b])\n",
    "images = cv2.cvtColor(img, cv2.COLOR_BGR2RGB)\n",
    "np.array(images, dtype='uint8')\n",
    "\n",
    "#print(images)\n",
    "#img_array = keras.preprocessing.image.img_to_array(img)\n",
    "#new_array = cv2.resize(img_array,(432,288))\n",
    "#images.reshape(-1, 288,432, 3)\n",
    "#print(images)\n",
    "\n",
    "images = tf.expand_dims(images, 0)\n",
    "print(images.shape)\n",
    "new_model = load_model('C:/Users/jaehee/.keras/datasets/model/resnet50_model_6_23(denoise(o),e=16,size=(288x432),origin_spec(0.3)-epoch=130).h5', custom_objects={'tf': tf})\n",
    "prediction = new_model.predict(images)\n",
    "score = tf.nn.softmax(prediction[0])\n",
    "print(score)\n",
    "#print(\"새로운 데이터는 {} 클래스일 확률이 {:.2f}%입니다..\".format(class_names[np.argmax(score)], 100 * np.max(score)))\n",
    "#prediction = new_model.predict([prepare('C:/Users/jaehee/.keras/datasets/prediction_data/prediction/preprocessed/weather/n2.png')])\n",
    "\n",
    "classes = np.argmax(prediction, axis = 1)\n",
    "print(classes)"
   ]
  },
  {
   "cell_type": "code",
   "execution_count": null,
   "id": "f8910ffb",
   "metadata": {},
   "outputs": [],
   "source": []
  }
 ],
 "metadata": {
  "kernelspec": {
   "display_name": "naerrow",
   "language": "python",
   "name": "naerrow"
  },
  "language_info": {
   "codemirror_mode": {
    "name": "ipython",
    "version": 3
   },
   "file_extension": ".py",
   "mimetype": "text/x-python",
   "name": "python",
   "nbconvert_exporter": "python",
   "pygments_lexer": "ipython3",
   "version": "3.7.10"
  }
 },
 "nbformat": 4,
 "nbformat_minor": 5
}
