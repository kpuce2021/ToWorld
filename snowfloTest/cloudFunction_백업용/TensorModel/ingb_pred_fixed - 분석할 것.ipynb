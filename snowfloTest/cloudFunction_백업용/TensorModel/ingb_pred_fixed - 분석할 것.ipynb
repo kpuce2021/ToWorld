{
 "cells": [
  {
   "cell_type": "code",
   "execution_count": null,
   "metadata": {},
   "outputs": [],
   "source": [
    "import cv2\n",
    "import tensorflow as tf\n",
    "import numpy as np\n",
    "from keras.preprocessing import image\n",
    "from tensorflow import keras\n",
    "from tensorflow.python.keras.models import load_model\n",
    "\n",
    "morning = 'C:/Users/jaehee/.keras/datasets/prediction_data/prediction/ingb_prediction (2)/rm_spec/morning/unnoisedg3.png'\n",
    "traffic = 'C:/Users/jaehee/.keras/datasets/prediction_data/prediction/ingb_prediction (2)/rm_spec/traffic/unnoisedc3.png'\n",
    "weather = 'C:/Users/jaehee/.keras/datasets/prediction_data/prediction/ingb_prediction (2)/rm_spec/weather/unnoisedn3.png'\n",
    "image_path = \"D:/#2021_CAPSTONE/_DataSet/prediction/_validation_/_other_model/weather/unnoisedn3.png\"\n",
    "\n",
    "class_names = ['morning','traffic','weather']\n",
    "img = cv2.imread(image_path)\n",
    "\n",
    "# open cv 문제 해결\n",
    "b, g, r = cv2.split(img)\n",
    "img2 = cv2.merge([r, g, b])\n",
    "images = cv2.cvtColor(img, cv2.COLOR_BGR2RGB)\n",
    "np.array(images, dtype='uint8')\n",
    "\n",
    "images = tf.expand_dims(images, 0)\n",
    "new_model = load_model('model/resnet50_model_6_23(denoise(o),e=16,size=(288x432),origin_spec(0.3)-epoch=130).h5', custom_objects={'tf': tf})\n",
    "prediction = new_model.predict(images)\n",
    "score = tf.nn.softmax(prediction[0])\n",
    "\n",
    "print(\"새로운 데이터는 {} 클래스일 확률이 {:.2f}%입니다..\".format(class_names[np.argmax(score)], 100 * np.max(score)))\n",
    "\n",
    "# 지섭이 print문\n",
    "# classes = np.argmax(prediction, axis = 1)\n",
    "# print(classes)"
   ]
  },
  {
   "cell_type": "code",
   "execution_count": null,
   "metadata": {},
   "outputs": [],
   "source": [
    "import cv2\n",
    "import tensorflow as tf\n",
    "import numpy as np\n",
    "from keras.preprocessing import image\n",
    "from tensorflow import keras\n",
    "from tensorflow.python.keras.models import load_model"
   ]
  },
  {
   "cell_type": "code",
   "execution_count": null,
   "metadata": {},
   "outputs": [],
   "source": [
    "image_path = \"D:/#2021_CAPSTONE/_DataSet/prediction/_validation_/_other_model/weather/unnoisedn3.png\"\n"
   ]
  },
  {
   "cell_type": "code",
   "execution_count": null,
   "metadata": {},
   "outputs": [],
   "source": [
    "class_names = ['morning','traffic','weather']\n",
    "img = cv2.imread(image_path)\n"
   ]
  },
  {
   "cell_type": "code",
   "execution_count": null,
   "metadata": {},
   "outputs": [],
   "source": [
    "# open cv 문제 해결\n",
    "b, g, r = cv2.split(img)\n",
    "img2 = cv2.merge([r, g, b])\n",
    "images = cv2.cvtColor(img, cv2.COLOR_BGR2RGB)\n",
    "np.array(images, dtype='uint8')"
   ]
  },
  {
   "cell_type": "code",
   "execution_count": null,
   "metadata": {},
   "outputs": [],
   "source": [
    "images = tf.expand_dims(images, 0)\n",
    "images.shape"
   ]
  },
  {
   "cell_type": "code",
   "execution_count": null,
   "metadata": {},
   "outputs": [],
   "source": [
    "new_model = load_model('model/resnet50_model_6_23(denoise(o),e=16,size=(288x432),origin_spec(0.3)-epoch=130).h5', custom_objects={'tf': tf})"
   ]
  },
  {
   "cell_type": "code",
   "execution_count": null,
   "metadata": {},
   "outputs": [],
   "source": [
    "prediction = new_model.predict(images)\n",
    "score = tf.nn.softmax(prediction[0])"
   ]
  },
  {
   "cell_type": "code",
   "execution_count": null,
   "metadata": {},
   "outputs": [],
   "source": [
    "print(\"새로운 데이터는 {} 클래스일 확률이 {:.2f}%입니다..\".format(class_names[np.argmax(score)], 100 * np.max(score)))\n"
   ]
  },
  {
   "cell_type": "code",
   "execution_count": null,
   "metadata": {},
   "outputs": [],
   "source": []
  }
 ],
 "metadata": {
  "kernelspec": {
   "display_name": "capstone2021",
   "language": "python",
   "name": "capstone2021"
  },
  "language_info": {
   "codemirror_mode": {
    "name": "ipython",
    "version": 3
   },
   "file_extension": ".py",
   "mimetype": "text/x-python",
   "name": "python",
   "nbconvert_exporter": "python",
   "pygments_lexer": "ipython3",
   "version": "3.7.10"
  }
 },
 "nbformat": 4,
 "nbformat_minor": 5
}
