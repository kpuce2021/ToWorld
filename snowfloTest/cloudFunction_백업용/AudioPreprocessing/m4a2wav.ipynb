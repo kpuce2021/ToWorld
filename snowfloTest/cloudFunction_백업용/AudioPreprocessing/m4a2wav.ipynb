{
 "cells": [
  {
   "cell_type": "markdown",
   "metadata": {},
   "source": [
    "# m4a2wav\n",
    "\n",
    "### m4a file을 wav file로"
   ]
  },
  {
   "cell_type": "code",
   "execution_count": 2,
   "metadata": {},
   "outputs": [],
   "source": [
    "import os\n",
    "import argparse\n",
    "import traceback\n",
    "from pydub import AudioSegment"
   ]
  },
  {
   "cell_type": "code",
   "execution_count": 3,
   "metadata": {},
   "outputs": [],
   "source": [
    "# 바꿀 format 설정\n",
    "formats_to_convert = ['.m4a']"
   ]
  },
  {
   "cell_type": "code",
   "execution_count": 4,
   "metadata": {},
   "outputs": [],
   "source": [
    "# file_directory - 파일을 가진 상위 디렉토리\n",
    "file_directory = 'D:/#2021_CAPSTONE/_DataSet/sound_test_data_pretreatment (spec)/prediction'"
   ]
  },
  {
   "cell_type": "code",
   "execution_count": 6,
   "metadata": {},
   "outputs": [
    {
     "name": "stdout",
     "output_type": "stream",
     "text": [
      "dirpath D:/#2021_CAPSTONE/_DataSet/sound_test_data_pretreatment (spec)/prediction\n",
      "filenames ['c1.m4a', 'c2.m4a', 'c3.m4a', 'g1.m4a', 'g2.m4a', 'g3.m4a', 'n1.m4a', 'n2.m4a', 'n3.m4a']\n",
      "path D:/#2021_CAPSTONE/_DataSet/sound_test_data_pretreatment (spec)/prediction/c1\n",
      "filepath D:/#2021_CAPSTONE/_DataSet/sound_test_data_pretreatment (spec)/prediction/c1.m4a\n",
      "file_extension_final m4a\n",
      "CONVERTING: D:/#2021_CAPSTONE/_DataSet/sound_test_data_pretreatment (spec)/prediction/c1.m4a\n",
      "dirpath D:/#2021_CAPSTONE/_DataSet/sound_test_data_pretreatment (spec)/prediction\n",
      "filenames ['c1.m4a', 'c2.m4a', 'c3.m4a', 'g1.m4a', 'g2.m4a', 'g3.m4a', 'n1.m4a', 'n2.m4a', 'n3.m4a']\n",
      "path D:/#2021_CAPSTONE/_DataSet/sound_test_data_pretreatment (spec)/prediction/c2\n",
      "filepath D:/#2021_CAPSTONE/_DataSet/sound_test_data_pretreatment (spec)/prediction/c2.m4a\n",
      "file_extension_final m4a\n",
      "CONVERTING: D:/#2021_CAPSTONE/_DataSet/sound_test_data_pretreatment (spec)/prediction/c2.m4a\n",
      "dirpath D:/#2021_CAPSTONE/_DataSet/sound_test_data_pretreatment (spec)/prediction\n",
      "filenames ['c1.m4a', 'c2.m4a', 'c3.m4a', 'g1.m4a', 'g2.m4a', 'g3.m4a', 'n1.m4a', 'n2.m4a', 'n3.m4a']\n",
      "path D:/#2021_CAPSTONE/_DataSet/sound_test_data_pretreatment (spec)/prediction/c3\n",
      "filepath D:/#2021_CAPSTONE/_DataSet/sound_test_data_pretreatment (spec)/prediction/c3.m4a\n",
      "file_extension_final m4a\n",
      "CONVERTING: D:/#2021_CAPSTONE/_DataSet/sound_test_data_pretreatment (spec)/prediction/c3.m4a\n",
      "dirpath D:/#2021_CAPSTONE/_DataSet/sound_test_data_pretreatment (spec)/prediction\n",
      "filenames ['c1.m4a', 'c2.m4a', 'c3.m4a', 'g1.m4a', 'g2.m4a', 'g3.m4a', 'n1.m4a', 'n2.m4a', 'n3.m4a']\n",
      "path D:/#2021_CAPSTONE/_DataSet/sound_test_data_pretreatment (spec)/prediction/g1\n",
      "filepath D:/#2021_CAPSTONE/_DataSet/sound_test_data_pretreatment (spec)/prediction/g1.m4a\n",
      "file_extension_final m4a\n",
      "CONVERTING: D:/#2021_CAPSTONE/_DataSet/sound_test_data_pretreatment (spec)/prediction/g1.m4a\n",
      "dirpath D:/#2021_CAPSTONE/_DataSet/sound_test_data_pretreatment (spec)/prediction\n",
      "filenames ['c1.m4a', 'c2.m4a', 'c3.m4a', 'g1.m4a', 'g2.m4a', 'g3.m4a', 'n1.m4a', 'n2.m4a', 'n3.m4a']\n",
      "path D:/#2021_CAPSTONE/_DataSet/sound_test_data_pretreatment (spec)/prediction/g2\n",
      "filepath D:/#2021_CAPSTONE/_DataSet/sound_test_data_pretreatment (spec)/prediction/g2.m4a\n",
      "file_extension_final m4a\n",
      "CONVERTING: D:/#2021_CAPSTONE/_DataSet/sound_test_data_pretreatment (spec)/prediction/g2.m4a\n",
      "dirpath D:/#2021_CAPSTONE/_DataSet/sound_test_data_pretreatment (spec)/prediction\n",
      "filenames ['c1.m4a', 'c2.m4a', 'c3.m4a', 'g1.m4a', 'g2.m4a', 'g3.m4a', 'n1.m4a', 'n2.m4a', 'n3.m4a']\n",
      "path D:/#2021_CAPSTONE/_DataSet/sound_test_data_pretreatment (spec)/prediction/g3\n",
      "filepath D:/#2021_CAPSTONE/_DataSet/sound_test_data_pretreatment (spec)/prediction/g3.m4a\n",
      "file_extension_final m4a\n",
      "CONVERTING: D:/#2021_CAPSTONE/_DataSet/sound_test_data_pretreatment (spec)/prediction/g3.m4a\n",
      "dirpath D:/#2021_CAPSTONE/_DataSet/sound_test_data_pretreatment (spec)/prediction\n",
      "filenames ['c1.m4a', 'c2.m4a', 'c3.m4a', 'g1.m4a', 'g2.m4a', 'g3.m4a', 'n1.m4a', 'n2.m4a', 'n3.m4a']\n",
      "path D:/#2021_CAPSTONE/_DataSet/sound_test_data_pretreatment (spec)/prediction/n1\n",
      "filepath D:/#2021_CAPSTONE/_DataSet/sound_test_data_pretreatment (spec)/prediction/n1.m4a\n",
      "file_extension_final m4a\n",
      "CONVERTING: D:/#2021_CAPSTONE/_DataSet/sound_test_data_pretreatment (spec)/prediction/n1.m4a\n",
      "dirpath D:/#2021_CAPSTONE/_DataSet/sound_test_data_pretreatment (spec)/prediction\n",
      "filenames ['c1.m4a', 'c2.m4a', 'c3.m4a', 'g1.m4a', 'g2.m4a', 'g3.m4a', 'n1.m4a', 'n2.m4a', 'n3.m4a']\n",
      "path D:/#2021_CAPSTONE/_DataSet/sound_test_data_pretreatment (spec)/prediction/n2\n",
      "filepath D:/#2021_CAPSTONE/_DataSet/sound_test_data_pretreatment (spec)/prediction/n2.m4a\n",
      "file_extension_final m4a\n",
      "CONVERTING: D:/#2021_CAPSTONE/_DataSet/sound_test_data_pretreatment (spec)/prediction/n2.m4a\n",
      "dirpath D:/#2021_CAPSTONE/_DataSet/sound_test_data_pretreatment (spec)/prediction\n",
      "filenames ['c1.m4a', 'c2.m4a', 'c3.m4a', 'g1.m4a', 'g2.m4a', 'g3.m4a', 'n1.m4a', 'n2.m4a', 'n3.m4a']\n",
      "path D:/#2021_CAPSTONE/_DataSet/sound_test_data_pretreatment (spec)/prediction/n3\n",
      "filepath D:/#2021_CAPSTONE/_DataSet/sound_test_data_pretreatment (spec)/prediction/n3.m4a\n",
      "file_extension_final m4a\n",
      "CONVERTING: D:/#2021_CAPSTONE/_DataSet/sound_test_data_pretreatment (spec)/prediction/n3.m4a\n"
     ]
    }
   ],
   "source": [
    "# 변환\n",
    "for (dirpath, dirnames, filenames) in os.walk(file_directory):  # 상위 폴더\n",
    "    # https://codechacha.com/ko/python-walk-files/\n",
    "    # os.walk : for 로 어떤 경로의 모든 하위 폴더와 파일을 탐색\n",
    "    for filename in filenames:\n",
    "        if filename.endswith(tuple(formats_to_convert)):  # tuple -> ('.m4a')\n",
    "            # .m4a로 끝나면\n",
    "            print('dirpath',dirpath)\n",
    "            print('filenames',filenames)\n",
    "            \n",
    "            # filepath 설정 = [상위 폴더]/[파일 이름]\n",
    "            filepath = dirpath + '/' + filename\n",
    "            # 확장자 분리  # filepath.m4a --> ['filepath','.m4a']\n",
    "            (path, file_extension) = os.path.splitext(filepath)\n",
    "            # 확장자 . 삭제  # .m4a --> m4a\n",
    "            file_extension_final = file_extension.replace('.', '')\n",
    "            \n",
    "            print('path',path)\n",
    "            \n",
    "            try:\n",
    "                print('filepath',filepath)\n",
    "                print('file_extension_final',file_extension_final)\n",
    "                track = AudioSegment.from_file(filepath, file_extension_final)\n",
    "                wav_filename = filename.replace(file_extension_final, 'wav')\n",
    "                wav_path = dirpath + '/' + wav_filename\n",
    "                print('CONVERTING: ' + str(filepath))\n",
    "                file_handle = track.export(wav_path, format='wav')\n",
    "                os.remove(filepath)\n",
    "            except:\n",
    "                print(traceback.print_exc())"
   ]
  },
  {
   "cell_type": "code",
   "execution_count": null,
   "metadata": {},
   "outputs": [],
   "source": []
  }
 ],
 "metadata": {
  "kernelspec": {
   "display_name": "capstone2021",
   "language": "python",
   "name": "capstone2021"
  },
  "language_info": {
   "codemirror_mode": {
    "name": "ipython",
    "version": 3
   },
   "file_extension": ".py",
   "mimetype": "text/x-python",
   "name": "python",
   "nbconvert_exporter": "python",
   "pygments_lexer": "ipython3",
   "version": "3.7.10"
  }
 },
 "nbformat": 4,
 "nbformat_minor": 4
}
